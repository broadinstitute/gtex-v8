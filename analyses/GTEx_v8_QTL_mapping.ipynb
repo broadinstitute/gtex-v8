{
 "cells": [
  {
   "cell_type": "markdown",
   "metadata": {},
   "source": [
    "### QTL mapping with tensorQTL\n",
    "The V8 *cis*-eQTLs and *cis*-sQTLs were mapped using [FastQTL](https://github.com/francois-a/fastqtl). This notebook provides the equivalent commands for tensorQTL, which contains additional built-in commands, including for mapping conditionally independent eQTLs.\n",
    "\n",
    "#### Required input files\n",
    "The VCF can be obtained from [AnVIL](https://app.terra.bio/#workspaces/anvil-datastorage/AnVIL_GTEx_V8_hg38)\n",
    "The following files are needed for tensorQTL:\n",
    "```\n",
    "gs://fc-secure-ff8156a3-ddf3-42e4-9211-0fd89da62108/GTEx_Analysis_2017-06-05_v8_WGS_VCF_files/GTEx_Analysis_2017-06-05_v8_WholeGenomeSeq_838Indiv_Analysis_Freeze.SHAPEIT2_phased.MAF01.bed\n",
    "gs://fc-secure-ff8156a3-ddf3-42e4-9211-0fd89da62108/GTEx_Analysis_2017-06-05_v8_WGS_VCF_files/GTEx_Analysis_2017-06-05_v8_WholeGenomeSeq_838Indiv_Analysis_Freeze.SHAPEIT2_phased.MAF01.bim\n",
    "gs://fc-secure-ff8156a3-ddf3-42e4-9211-0fd89da62108/GTEx_Analysis_2017-06-05_v8_WGS_VCF_files/GTEx_Analysis_2017-06-05_v8_WholeGenomeSeq_838Indiv_Analysis_Freeze.SHAPEIT2_phased.MAF01.fam\n",
    "```\n",
    "The expression and covariate matrices can be obtained from the [GTEx Portal](https://gtexportal.org/home/datasets), specifically the following archives (which need to be unpacked):\n",
    "```\n",
    "GTEx_Analysis_v8_eQTL_expression_matrices.tar\n",
    "GTEx_Analysis_v8_eQTL_covariates.tar.gz\n",
    "```"
   ]
  },
  {
   "cell_type": "code",
   "execution_count": null,
   "metadata": {},
   "outputs": [],
   "source": [
    "import pandas as pd\n",
    "import tensorqtl\n",
    "from tensorqtl import genotypeio, cis, post"
   ]
  },
  {
   "cell_type": "code",
   "execution_count": null,
   "metadata": {},
   "outputs": [],
   "source": [
    "# load VCF\n",
    "plink_prefix_path = '/resources/vcfs/GTEx_Analysis_2017-06-05_v8_WholeGenomeSeq_838Indiv_Analysis_Freeze.SHAPEIT2_phased.MAF01'\n",
    "pr = genotypeio.PlinkReader(plink_prefix_path)\n",
    "genotype_df = pr.load_genotypes()\n",
    "variant_df = pr.bim.set_index('snp')[['chrom', 'pos']]"
   ]
  },
  {
   "cell_type": "code",
   "execution_count": null,
   "metadata": {},
   "outputs": [],
   "source": [
    "# Example: mapping eQTLs for 'Brain_Cortex'\n",
    "tissue_id = 'Brain_Cortex'\n",
    "phenotype_df, phenotype_pos_df = tensorqtl.read_phenotype_bed('/resources/GTEx_Analysis_v8_eQTL_expression_matrices/{}.v8.normalized_expression.bed.gz'.format(tissue_id))\n",
    "covariates_df = pd.read_csv('/resources/GTEx_Analysis_v8_eQTL_covariates/{}.v8.covariates.txt'.format(tissue_id), sep='\\t', index_col=0).T"
   ]
  },
  {
   "cell_type": "code",
   "execution_count": null,
   "metadata": {},
   "outputs": [],
   "source": [
    "# 1) compute permutations and define eGenes\n",
    "egenes_df = cis.map_cis(genotype_df, variant_df, phenotype_df, phenotype_pos_df, covariates_df)\n",
    "post.calculate_qvalues(egenes_df, fdr=0.05, qvalue_lambda=0.85)"
   ]
  },
  {
   "cell_type": "code",
   "execution_count": null,
   "metadata": {},
   "outputs": [],
   "source": [
    "# 2) compute nominal associations for all variant-gene pairs\n",
    "cis.map_nominal(genotype_df, variant_df, phenotype_df, phenotype_pos_df,\n",
    "                covariates_df, tissue_id, output_dir='.')"
   ]
  },
  {
   "cell_type": "code",
   "execution_count": null,
   "metadata": {},
   "outputs": [],
   "source": [
    "# 3) compute significant variant-gene pairs\n",
    "pairs_df = post.get_significant_pairs(egenes_df, '{}'.format(tissue_id))"
   ]
  },
  {
   "cell_type": "code",
   "execution_count": null,
   "metadata": {},
   "outputs": [],
   "source": [
    "# 4) compute conditionally independent eQTLs\n",
    "indep_df = cis.map_independent(genotype_df, variant_df, egenes_df,\n",
    "                               phenotype_df, phenotype_pos_df, covariates_df)"
   ]
  },
  {
   "cell_type": "code",
   "execution_count": null,
   "metadata": {},
   "outputs": [],
   "source": []
  }
 ],
 "metadata": {
  "kernelspec": {
   "display_name": "Python 3",
   "language": "python",
   "name": "python3"
  },
  "language_info": {
   "codemirror_mode": {
    "name": "ipython",
    "version": 3
   },
   "file_extension": ".py",
   "mimetype": "text/x-python",
   "name": "python",
   "nbconvert_exporter": "python",
   "pygments_lexer": "ipython3",
   "version": "3.6.7"
  }
 },
 "nbformat": 4,
 "nbformat_minor": 2
}
